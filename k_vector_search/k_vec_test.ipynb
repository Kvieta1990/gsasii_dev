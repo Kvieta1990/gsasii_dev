{
 "cells": [
  {
   "cell_type": "markdown",
   "id": "e98781e0-78e9-4469-8d08-17b78a66a39b",
   "metadata": {},
   "source": [
    "# Testing for k=[0., 0., 0.] in primitive settings"
   ]
  },
  {
   "cell_type": "markdown",
   "id": "41f0730b-fefc-4d66-98a5-d4da019e89c3",
   "metadata": {},
   "source": [
    "- I created a dummy R-3m structure in VESTA -- see the `r-3m_dummy.cif` file\n",
    "\n",
    "- The primitive reciprocal space lattice vectors were given by `seekpath` web interface.\n",
    "\n",
    "- I then calculated the d-spacings corresponding to (hp +/- kx, kp +/- ky, lp +/- kz)\n",
    "\n",
    "- As for `k = [0., 0., 0.]`, we should get back all the d-spacings corresponding to the nucleus peaks."
   ]
  },
  {
   "cell_type": "code",
   "execution_count": 5,
   "id": "e1896f40-93dd-4fdf-8f95-6a30f42f8d08",
   "metadata": {
    "execution": {
     "iopub.execute_input": "2024-04-02T18:52:34.352529Z",
     "iopub.status.busy": "2024-04-02T18:52:34.351048Z",
     "iopub.status.idle": "2024-04-02T18:52:34.356353Z",
     "shell.execute_reply": "2024-04-02T18:52:34.355503Z",
     "shell.execute_reply.started": "2024-04-02T18:52:34.352494Z"
    },
    "tags": []
   },
   "outputs": [],
   "source": [
    "import matplotlib.pyplot as plt\n",
    "import numpy as np"
   ]
  },
  {
   "cell_type": "code",
   "execution_count": 101,
   "id": "4aa3f7b2-7ed0-44a1-9236-87373d33d2b4",
   "metadata": {
    "execution": {
     "iopub.execute_input": "2024-04-03T20:17:38.318682Z",
     "iopub.status.busy": "2024-04-03T20:17:38.317748Z",
     "iopub.status.idle": "2024-04-03T20:17:38.329004Z",
     "shell.execute_reply": "2024-04-03T20:17:38.328455Z",
     "shell.execute_reply.started": "2024-04-03T20:17:38.318652Z"
    },
    "tags": []
   },
   "outputs": [
    {
     "name": "stdout",
     "output_type": "stream",
     "text": [
      "  h  k  l   d_hkl_p_k   d_hkl_m_k\n",
      "  0  0  0         INF         INF\n",
      "  0  0  1     6.10659     6.10659\n",
      "  0  0  2     3.05329     3.05329\n",
      "  0  1  0     6.10659     6.10659\n",
      "  0  1  1     5.36762     5.36762\n",
      "  0  1  2     3.22357     3.22357\n",
      "  0  2  0     3.05329     3.05329\n",
      "  0  2  1     3.22357     3.22357\n",
      "  0  2  2     2.68381     2.68381\n",
      "  1  0  0     6.10659     6.10659\n",
      "  1  0  1     5.36762     5.36762\n",
      "  1  0  2     3.22357     3.22357\n",
      "  1  1  0     5.36762     5.36762\n",
      "  1  1  1     6.49901     6.49901\n",
      "  1  1  2     3.88437     3.88437\n",
      "  1  2  0     3.22357     3.22357\n",
      "  1  2  1     3.88437     3.88437\n",
      "  1  2  2     3.33422     3.33422\n",
      "  2  0  0     3.05329     3.05329\n",
      "  2  0  1     3.22357     3.22357\n",
      "  2  0  2     2.68381     2.68381\n",
      "  2  1  0     3.22357     3.22357\n",
      "  2  1  1     3.88437     3.88437\n",
      "  2  1  2     3.33422     3.33422\n",
      "  2  2  0     2.68381     2.68381\n",
      "  2  2  1     3.33422     3.33422\n",
      "  2  2  2     3.24950     3.24950\n"
     ]
    }
   ],
   "source": [
    "rec_latt = np.array(\n",
    "    [\n",
    "        [0.8462361993599324, 0.4885746974984627, 0.32226378049552723],\n",
    "        [-0.8462361993599324, 0.4885746974984627, 0.32226378049552723],\n",
    "        [5.8914529841979124e-18, -0.9771493949969254, 0.32226378049552723]\n",
    "    ]\n",
    ")\n",
    "\n",
    "k_vec = np.array([0., 0., 0.])\n",
    "\n",
    "# Generate a series of primitive hkl index.\n",
    "hkl_refls = list()\n",
    "for i in range(3):\n",
    "    for j in range(3):\n",
    "        for k in range(3):\n",
    "            hkl_refls.append([i, j, k])\n",
    "\n",
    "print_str = \"{:>3s}{:>3s}{:>3s}\"\n",
    "print_str += \"{:>12s}{:>12s}\"\n",
    "print(\n",
    "    print_str.format(\n",
    "        \"h\", \"k\", \"l\",\n",
    "        \"d_hkl_p_k\", \"d_hkl_m_k\"\n",
    "    )\n",
    ")\n",
    "\n",
    "for hkl in hkl_refls:\n",
    "    hkl_tmp = np.array(hkl)\n",
    "\n",
    "    hkl_p_k = hkl_tmp + k_vec\n",
    "    k_cart = np.matmul(\n",
    "        hkl_p_k,\n",
    "        rec_latt\n",
    "    )\n",
    "    if np.linalg.norm(k_cart) == 0.:\n",
    "        d_hkl_p_k = np.infty\n",
    "    else:\n",
    "        d_hkl_p_k = 2. * np.pi / np.linalg.norm(k_cart)\n",
    "\n",
    "    hkl_m_k = hkl_tmp - k_vec\n",
    "    k_cart = np.matmul(\n",
    "        hkl_m_k,\n",
    "        rec_latt\n",
    "    )\n",
    "    if np.linalg.norm(k_cart) == 0.:\n",
    "        d_hkl_m_k = np.infty\n",
    "    else:\n",
    "        d_hkl_m_k = 2. * np.pi / np.linalg.norm(k_cart)\n",
    "\n",
    "    print_str = \"{:3d}{:3d}{:3d}\"\n",
    "    print_str += \"{:12.5F}{:12.5F}\"\n",
    "\n",
    "    print(\n",
    "        print_str.format(\n",
    "            int(hkl[0]), int(hkl[1]), int(hkl[2]),\n",
    "            d_hkl_p_k, d_hkl_m_k\n",
    "        )\n",
    "    )"
   ]
  },
  {
   "cell_type": "markdown",
   "id": "ab774fda-b4df-4709-b98b-96a772113fc5",
   "metadata": {},
   "source": [
    "# Testing for k = [-0.21, 0.46, 0.25] in primitive settings"
   ]
  },
  {
   "cell_type": "markdown",
   "id": "22a94e02-80b7-4d2c-8184-bc62c0f24054",
   "metadata": {},
   "source": [
    "- This corresponds to `k = [0.33, 0.21, 1.5]` in the conventional settings.\n",
    "\n",
    "- I will be using the generated satellite peak positions as input for the k-vector search."
   ]
  },
  {
   "cell_type": "code",
   "execution_count": 100,
   "id": "f3dfeebd-0f58-4ba6-8fa3-c9c60cba0dc9",
   "metadata": {
    "execution": {
     "iopub.execute_input": "2024-04-03T20:17:23.862683Z",
     "iopub.status.busy": "2024-04-03T20:17:23.861832Z",
     "iopub.status.idle": "2024-04-03T20:17:23.871533Z",
     "shell.execute_reply": "2024-04-03T20:17:23.871006Z",
     "shell.execute_reply.started": "2024-04-03T20:17:23.862654Z"
    },
    "tags": []
   },
   "outputs": [],
   "source": [
    "k_vec = np.array([-0.21, -0.54, 0.25])\n",
    "\n",
    "satellite_peaks = list()\n",
    "\n",
    "for hkl in hkl_refls:\n",
    "    hkl_tmp = np.array(hkl)\n",
    "\n",
    "    hkl_p_k = hkl_tmp + k_vec\n",
    "    k_cart = np.matmul(\n",
    "        hkl_p_k,\n",
    "        rec_latt\n",
    "    )\n",
    "    d_hkl_p_k = 2. * np.pi / np.linalg.norm(k_cart)\n",
    "\n",
    "    satellite_peaks.append(d_hkl_p_k)\n",
    "    \n",
    "    hkl_m_k = hkl_tmp - k_vec\n",
    "    k_cart = np.matmul(\n",
    "        hkl_m_k,\n",
    "        rec_latt\n",
    "    )\n",
    "    d_hkl_m_k = 2. * np.pi / np.linalg.norm(k_cart)\n",
    "    \n",
    "    satellite_peaks.append(d_hkl_m_k)"
   ]
  },
  {
   "cell_type": "code",
   "execution_count": 121,
   "id": "954ff8a2-6645-4e56-9df9-39cc6f5e2025",
   "metadata": {
    "execution": {
     "iopub.execute_input": "2024-04-03T20:23:40.894698Z",
     "iopub.status.busy": "2024-04-03T20:23:40.893799Z",
     "iopub.status.idle": "2024-04-03T20:23:40.899870Z",
     "shell.execute_reply": "2024-04-03T20:23:40.899181Z",
     "shell.execute_reply.started": "2024-04-03T20:23:40.894668Z"
    },
    "tags": []
   },
   "outputs": [],
   "source": [
    "lambda_val = 2.4109\n",
    "\n",
    "satellite_peaks = list(set(satellite_peaks))\n",
    "used_peaks_d = sorted(satellite_peaks, reverse=True)[:80]\n",
    "used_peaks_2theta = list()\n",
    "for peak in used_peaks_d:\n",
    "    val_tmp = 2. * np.rad2deg(np.arcsin(lambda_val / (2. * peak)))\n",
    "    used_peaks_2theta.append(val_tmp)"
   ]
  },
  {
   "cell_type": "code",
   "execution_count": 122,
   "id": "7cfda6d4-ae66-467b-a863-217b54075ca1",
   "metadata": {
    "execution": {
     "iopub.execute_input": "2024-04-03T20:23:42.972139Z",
     "iopub.status.busy": "2024-04-03T20:23:42.971229Z",
     "iopub.status.idle": "2024-04-03T20:23:42.976972Z",
     "shell.execute_reply": "2024-04-03T20:23:42.976286Z",
     "shell.execute_reply.started": "2024-04-03T20:23:42.972117Z"
    },
    "tags": []
   },
   "outputs": [
    {
     "data": {
      "text/plain": [
       "[13.26338479653309,\n",
       " 14.721417743638689,\n",
       " 14.721417743638696,\n",
       " 15.227411791187778,\n",
       " 21.95861505346548,\n",
       " 23.216849467666652,\n",
       " 25.346012392669916,\n",
       " 28.166123579923614,\n",
       " 28.98612914701657,\n",
       " 29.173461410505855,\n",
       " 29.52121729517971,\n",
       " 29.52121729517971,\n",
       " 30.92201028661202,\n",
       " 33.946604566962414,\n",
       " 33.94660456696242,\n",
       " 34.01762129926318,\n",
       " 34.321082247730885,\n",
       " 35.552294523185786,\n",
       " 35.708586353001955,\n",
       " 36.22141409297503,\n",
       " 36.37521508301709,\n",
       " 36.81383933528017,\n",
       " 38.946111974508206,\n",
       " 39.85098010652728,\n",
       " 40.45921927808069,\n",
       " 40.59932923654574,\n",
       " 41.929447879406275,\n",
       " 42.64768761951487,\n",
       " 42.898661831907454,\n",
       " 42.89866183190746,\n",
       " 42.95694263353032,\n",
       " 44.357085512495765,\n",
       " 46.2707767476399,\n",
       " 46.5061748060769,\n",
       " 46.62916074655543,\n",
       " 47.59385532169655,\n",
       " 48.473056818291376,\n",
       " 48.47305681829138,\n",
       " 49.29041563591082,\n",
       " 49.92495034620636,\n",
       " 50.315157444121745,\n",
       " 50.94255978469726,\n",
       " 51.21265024173167,\n",
       " 51.562217386194355,\n",
       " 51.71408576123375,\n",
       " 52.3272011220484,\n",
       " 53.16532597334105,\n",
       " 53.54070675638592,\n",
       " 53.65167188866806,\n",
       " 54.363658430485046,\n",
       " 54.73338102302482,\n",
       " 54.94185947138709,\n",
       " 54.990336587276865,\n",
       " 55.57827368794141,\n",
       " 56.33546474907562,\n",
       " 56.69449350624051,\n",
       " 56.694493506240526,\n",
       " 57.20978086034845,\n",
       " 57.42819266134009,\n",
       " 57.999852709179315,\n",
       " 58.03290208476475,\n",
       " 58.49408807417622,\n",
       " 59.68054643095653,\n",
       " 59.72651868443893,\n",
       " 59.83389772973332,\n",
       " 60.28452792517538,\n",
       " 60.48057904378768,\n",
       " 60.73712830732406,\n",
       " 60.839452410781654,\n",
       " 60.94565063015305,\n",
       " 61.287632219369996,\n",
       " 62.78506061729715,\n",
       " 62.78506061729718,\n",
       " 62.93002980242959,\n",
       " 64.14468462224583,\n",
       " 64.24388845200474,\n",
       " 64.68051141258712,\n",
       " 64.98422769950194,\n",
       " 65.51638575579692,\n",
       " 65.60358674992551]"
      ]
     },
     "execution_count": 122,
     "metadata": {},
     "output_type": "execute_result"
    }
   ],
   "source": [
    "used_peaks_2theta"
   ]
  }
 ],
 "metadata": {
  "kernelspec": {
   "display_name": "Python (default)",
   "language": "python",
   "name": "python3"
  },
  "language_info": {
   "codemirror_mode": {
    "name": "ipython",
    "version": 3
   },
   "file_extension": ".py",
   "mimetype": "text/x-python",
   "name": "python",
   "nbconvert_exporter": "python",
   "pygments_lexer": "ipython3",
   "version": "3.7.12"
  },
  "widgets": {
   "application/vnd.jupyter.widget-state+json": {
    "state": {},
    "version_major": 2,
    "version_minor": 0
   }
  }
 },
 "nbformat": 4,
 "nbformat_minor": 5
}
