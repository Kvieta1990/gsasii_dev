{
 "cells": [
  {
   "cell_type": "markdown",
   "id": "e98781e0-78e9-4469-8d08-17b78a66a39b",
   "metadata": {},
   "source": [
    "# Testing for k=[0., 0., 0.] in primitive settings"
   ]
  },
  {
   "cell_type": "markdown",
   "id": "41f0730b-fefc-4d66-98a5-d4da019e89c3",
   "metadata": {},
   "source": [
    "- I created a dummy R-3m structure in VESTA -- see the `r-3m_dummy.cif` file\n",
    "\n",
    "- The primitive reciprocal space lattice vectors were given by `seekpath` web interface.\n",
    "\n",
    "- I then calculated the d-spacings corresponding to (hp +/- kx, kp +/- ky, lp +/- kz)\n",
    "\n",
    "- As for `k = [0., 0., 0.]`, we should get back all the d-spacings corresponding to the nucleus peaks."
   ]
  },
  {
   "cell_type": "code",
   "execution_count": 1,
   "id": "e1896f40-93dd-4fdf-8f95-6a30f42f8d08",
   "metadata": {
    "execution": {
     "iopub.execute_input": "2024-04-06T16:32:32.708287Z",
     "iopub.status.busy": "2024-04-06T16:32:32.707298Z",
     "iopub.status.idle": "2024-04-06T16:32:33.312784Z",
     "shell.execute_reply": "2024-04-06T16:32:33.312149Z",
     "shell.execute_reply.started": "2024-04-06T16:32:32.708259Z"
    },
    "tags": []
   },
   "outputs": [],
   "source": [
    "import matplotlib.pyplot as plt\n",
    "import numpy as np"
   ]
  },
  {
   "cell_type": "code",
   "execution_count": 36,
   "id": "4aa3f7b2-7ed0-44a1-9236-87373d33d2b4",
   "metadata": {
    "execution": {
     "iopub.execute_input": "2024-04-06T23:45:29.747934Z",
     "iopub.status.busy": "2024-04-06T23:45:29.746874Z",
     "iopub.status.idle": "2024-04-06T23:45:29.759368Z",
     "shell.execute_reply": "2024-04-06T23:45:29.758459Z",
     "shell.execute_reply.started": "2024-04-06T23:45:29.747902Z"
    },
    "tags": []
   },
   "outputs": [
    {
     "name": "stdout",
     "output_type": "stream",
     "text": [
      "  h  k  l   d_hkl_p_k   d_hkl_m_k\n",
      "  0  0  0         INF         INF\n",
      "  0  0  1     6.10659     6.10659\n",
      "  0  0  2     3.05329     3.05329\n",
      "  0  1  0     6.10659     6.10659\n",
      "  0  1  1     5.36762     5.36762\n",
      "  0  1  2     3.22357     3.22357\n",
      "  0  2  0     3.05329     3.05329\n",
      "  0  2  1     3.22357     3.22357\n",
      "  0  2  2     2.68381     2.68381\n",
      "  1  0  0     6.10659     6.10659\n",
      "  1  0  1     5.36762     5.36762\n",
      "  1  0  2     3.22357     3.22357\n",
      "  1  1  0     5.36762     5.36762\n",
      "  1  1  1     6.49901     6.49901\n",
      "  1  1  2     3.88437     3.88437\n",
      "  1  2  0     3.22357     3.22357\n",
      "  1  2  1     3.88437     3.88437\n",
      "  1  2  2     3.33422     3.33422\n",
      "  2  0  0     3.05329     3.05329\n",
      "  2  0  1     3.22357     3.22357\n",
      "  2  0  2     2.68381     2.68381\n",
      "  2  1  0     3.22357     3.22357\n",
      "  2  1  1     3.88437     3.88437\n",
      "  2  1  2     3.33422     3.33422\n",
      "  2  2  0     2.68381     2.68381\n",
      "  2  2  1     3.33422     3.33422\n",
      "  2  2  2     3.24950     3.24950\n"
     ]
    }
   ],
   "source": [
    "rec_latt = np.array(\n",
    "    [\n",
    "        [0.8462361993599324, 0.4885746974984627, 0.32226378049552723],\n",
    "        [-0.8462361993599324, 0.4885746974984627, 0.32226378049552723],\n",
    "        [5.8914529841979124e-18, -0.9771493949969254, 0.32226378049552723]\n",
    "    ]\n",
    ")\n",
    "\n",
    "k_vec = np.array([0., 0., 0.])\n",
    "\n",
    "# Generate a series of primitive hkl index.\n",
    "hkl_refls = list()\n",
    "for i in range(3):\n",
    "    for j in range(3):\n",
    "        for k in range(3):\n",
    "            hkl_refls.append([i, j, k])\n",
    "\n",
    "print_str = \"{:>3s}{:>3s}{:>3s}\"\n",
    "print_str += \"{:>12s}{:>12s}\"\n",
    "print(\n",
    "    print_str.format(\n",
    "        \"h\", \"k\", \"l\",\n",
    "        \"d_hkl_p_k\", \"d_hkl_m_k\"\n",
    "    )\n",
    ")\n",
    "\n",
    "for hkl in hkl_refls:\n",
    "    hkl_tmp = np.array(hkl)\n",
    "\n",
    "    hkl_p_k = hkl_tmp + k_vec\n",
    "    k_cart = np.matmul(\n",
    "        hkl_p_k,\n",
    "        rec_latt\n",
    "    )\n",
    "    if np.linalg.norm(k_cart) == 0.:\n",
    "        d_hkl_p_k = np.infty\n",
    "    else:\n",
    "        d_hkl_p_k = 2. * np.pi / np.linalg.norm(k_cart)\n",
    "\n",
    "    hkl_m_k = hkl_tmp - k_vec\n",
    "    k_cart = np.matmul(\n",
    "        hkl_m_k,\n",
    "        rec_latt\n",
    "    )\n",
    "    if np.linalg.norm(k_cart) == 0.:\n",
    "        d_hkl_m_k = np.infty\n",
    "    else:\n",
    "        d_hkl_m_k = 2. * np.pi / np.linalg.norm(k_cart)\n",
    "\n",
    "    print_str = \"{:3d}{:3d}{:3d}\"\n",
    "    print_str += \"{:12.5F}{:12.5F}\"\n",
    "\n",
    "    print(\n",
    "        print_str.format(\n",
    "            int(hkl[0]), int(hkl[1]), int(hkl[2]),\n",
    "            d_hkl_p_k, d_hkl_m_k\n",
    "        )\n",
    "    )"
   ]
  },
  {
   "cell_type": "markdown",
   "id": "ab774fda-b4df-4709-b98b-96a772113fc5",
   "metadata": {},
   "source": [
    "# Testing for k = [-0.21, 0.46, 0.25] in primitive settings"
   ]
  },
  {
   "cell_type": "markdown",
   "id": "22a94e02-80b7-4d2c-8184-bc62c0f24054",
   "metadata": {},
   "source": [
    "- This corresponds to `k = [0.33, 0.21, 1.5]` in the conventional settings.\n",
    "\n",
    "- I will be using the generated satellite peak positions as input for the k-vector search."
   ]
  },
  {
   "cell_type": "code",
   "execution_count": 37,
   "id": "f3dfeebd-0f58-4ba6-8fa3-c9c60cba0dc9",
   "metadata": {
    "execution": {
     "iopub.execute_input": "2024-04-06T23:45:33.021128Z",
     "iopub.status.busy": "2024-04-06T23:45:33.020920Z",
     "iopub.status.idle": "2024-04-06T23:45:33.027396Z",
     "shell.execute_reply": "2024-04-06T23:45:33.026691Z",
     "shell.execute_reply.started": "2024-04-06T23:45:33.021109Z"
    },
    "tags": []
   },
   "outputs": [],
   "source": [
    "k_vec = np.array([-0.21, -0.54, 0.25])\n",
    "\n",
    "satellite_peaks = list()\n",
    "\n",
    "for hkl in hkl_refls:\n",
    "    hkl_tmp = np.array(hkl)\n",
    "\n",
    "    hkl_p_k = hkl_tmp + k_vec\n",
    "    k_cart = np.matmul(\n",
    "        hkl_p_k,\n",
    "        rec_latt\n",
    "    )\n",
    "    d_hkl_p_k = 2. * np.pi / np.linalg.norm(k_cart)\n",
    "\n",
    "    satellite_peaks.append(d_hkl_p_k)\n",
    "    \n",
    "    hkl_m_k = hkl_tmp - k_vec\n",
    "    k_cart = np.matmul(\n",
    "        hkl_m_k,\n",
    "        rec_latt\n",
    "    )\n",
    "    d_hkl_m_k = 2. * np.pi / np.linalg.norm(k_cart)\n",
    "    \n",
    "    satellite_peaks.append(d_hkl_m_k)"
   ]
  },
  {
   "cell_type": "code",
   "execution_count": 39,
   "id": "954ff8a2-6645-4e56-9df9-39cc6f5e2025",
   "metadata": {
    "execution": {
     "iopub.execute_input": "2024-04-06T23:46:26.483384Z",
     "iopub.status.busy": "2024-04-06T23:46:26.482672Z",
     "iopub.status.idle": "2024-04-06T23:46:26.489526Z",
     "shell.execute_reply": "2024-04-06T23:46:26.488745Z",
     "shell.execute_reply.started": "2024-04-06T23:46:26.483354Z"
    },
    "tags": []
   },
   "outputs": [],
   "source": [
    "lambda_val = 2.4109\n",
    "\n",
    "satellite_peaks = list(set(satellite_peaks))\n",
    "used_peaks_d = sorted(satellite_peaks, reverse=True)[:80]\n",
    "used_peaks_2theta = list()\n",
    "for peak in used_peaks_d:\n",
    "    val_tmp = 2. * np.rad2deg(np.arcsin(lambda_val / (2. * peak)))\n",
    "    used_peaks_2theta.append(val_tmp)"
   ]
  },
  {
   "cell_type": "code",
   "execution_count": 14,
   "id": "bf83c058-cfda-487d-8120-3df2d9df267e",
   "metadata": {
    "execution": {
     "iopub.execute_input": "2024-04-06T17:00:16.258440Z",
     "iopub.status.busy": "2024-04-06T17:00:16.257812Z",
     "iopub.status.idle": "2024-04-06T17:00:16.263967Z",
     "shell.execute_reply": "2024-04-06T17:00:16.263211Z",
     "shell.execute_reply.started": "2024-04-06T17:00:16.258416Z"
    }
   },
   "outputs": [
    {
     "data": {
      "text/plain": [
       "[13.26338479653309,\n",
       " 14.721417743638689,\n",
       " 14.721417743638696,\n",
       " 15.227411791187778,\n",
       " 21.95861505346548,\n",
       " 23.216849467666652,\n",
       " 25.346012392669916,\n",
       " 28.166123579923614,\n",
       " 28.98612914701657,\n",
       " 29.173461410505855,\n",
       " 29.52121729517971,\n",
       " 29.52121729517971,\n",
       " 30.92201028661202,\n",
       " 33.946604566962414,\n",
       " 33.94660456696242,\n",
       " 34.01762129926318,\n",
       " 34.321082247730885,\n",
       " 35.552294523185786,\n",
       " 35.708586353001955,\n",
       " 36.22141409297503,\n",
       " 36.37521508301709,\n",
       " 36.81383933528017,\n",
       " 38.946111974508206,\n",
       " 39.85098010652728,\n",
       " 40.45921927808069,\n",
       " 40.59932923654574,\n",
       " 41.929447879406275,\n",
       " 42.64768761951487,\n",
       " 42.898661831907454,\n",
       " 42.89866183190746,\n",
       " 42.95694263353032,\n",
       " 44.357085512495765,\n",
       " 46.5061748060769,\n",
       " 46.62916074655543,\n",
       " 47.59385532169655,\n",
       " 48.473056818291376,\n",
       " 48.47305681829138,\n",
       " 49.92495034620636,\n",
       " 50.315157444121745,\n",
       " 51.71408576123375,\n",
       " 52.3272011220484,\n",
       " 53.65167188866806,\n",
       " 54.73338102302482,\n",
       " 54.990336587276865,\n",
       " 55.57827368794141,\n",
       " 56.694493506240526,\n",
       " 57.20978086034845,\n",
       " 60.28452792517538,\n",
       " 60.48057904378768,\n",
       " 61.287632219369996,\n",
       " 64.24388845200474,\n",
       " 69.20017799400428]"
      ]
     },
     "execution_count": 14,
     "metadata": {},
     "output_type": "execute_result"
    }
   ],
   "source": [
    "used_peaks_2theta"
   ]
  },
  {
   "cell_type": "markdown",
   "id": "62cfe40c-807d-4c8a-b081-d98758a489a7",
   "metadata": {},
   "source": [
    "# Testing for k = [.5, .5, .0] in primitive settings"
   ]
  },
  {
   "cell_type": "markdown",
   "id": "3519af39-4978-43d5-b402-886a543b515a",
   "metadata": {},
   "source": [
    "- This is for space group Fm-3m\n",
    "\n",
    "- The k-vector in conventional settings is [0., 0., 1.]"
   ]
  },
  {
   "cell_type": "code",
   "execution_count": 19,
   "id": "b42bb2c8-e25d-4f74-aac5-d72977bf7563",
   "metadata": {
    "execution": {
     "iopub.execute_input": "2024-04-06T23:34:52.321151Z",
     "iopub.status.busy": "2024-04-06T23:34:52.320081Z",
     "iopub.status.idle": "2024-04-06T23:34:52.330204Z",
     "shell.execute_reply": "2024-04-06T23:34:52.329472Z",
     "shell.execute_reply.started": "2024-04-06T23:34:52.321119Z"
    },
    "tags": []
   },
   "outputs": [],
   "source": [
    "rec_latt = np.array(\n",
    "    [\n",
    "        [\n",
    "            -1.110967060467428,\n",
    "            1.110967060467428,\n",
    "            1.110967060467428\n",
    "        ],\n",
    "        [\n",
    "            1.110967060467428,\n",
    "            -1.110967060467428,\n",
    "            1.110967060467428\n",
    "        ],\n",
    "        [\n",
    "            1.110967060467428,\n",
    "            1.110967060467428,\n",
    "            -1.110967060467428\n",
    "        ],\n",
    "    ]\n",
    ")\n",
    "\n",
    "k_vec = np.array([.5, .5, .0])\n",
    "\n",
    "# Generate a series of primitive hkl index.\n",
    "hkl_refls = list()\n",
    "for i in range(3):\n",
    "    for j in range(3):\n",
    "        for k in range(3):\n",
    "            hkl_refls.append([i, j, k])\n",
    "\n",
    "satellite_peaks = list()\n",
    "\n",
    "for hkl in hkl_refls:\n",
    "    hkl_tmp = np.array(hkl)\n",
    "\n",
    "    hkl_p_k = hkl_tmp + k_vec\n",
    "    k_cart = np.matmul(\n",
    "        hkl_p_k,\n",
    "        rec_latt\n",
    "    )\n",
    "    d_hkl_p_k = 2. * np.pi / np.linalg.norm(k_cart)\n",
    "\n",
    "    satellite_peaks.append(d_hkl_p_k)\n",
    "    \n",
    "    hkl_m_k = hkl_tmp - k_vec\n",
    "    k_cart = np.matmul(\n",
    "        hkl_m_k,\n",
    "        rec_latt\n",
    "    )\n",
    "    d_hkl_m_k = 2. * np.pi / np.linalg.norm(k_cart)\n",
    "    \n",
    "    satellite_peaks.append(d_hkl_m_k)"
   ]
  },
  {
   "cell_type": "code",
   "execution_count": 34,
   "id": "c03e98cf-d3ab-4b99-8379-09256ed60ca9",
   "metadata": {
    "execution": {
     "iopub.execute_input": "2024-04-06T23:42:56.958521Z",
     "iopub.status.busy": "2024-04-06T23:42:56.957469Z",
     "iopub.status.idle": "2024-04-06T23:42:56.963856Z",
     "shell.execute_reply": "2024-04-06T23:42:56.963063Z",
     "shell.execute_reply.started": "2024-04-06T23:42:56.958490Z"
    },
    "tags": []
   },
   "outputs": [],
   "source": [
    "lambda_val = 2.4109\n",
    "\n",
    "satellite_peaks = list(set(satellite_peaks))\n",
    "used_peaks_d = sorted(satellite_peaks, reverse=True)[:10]\n",
    "used_peaks_2theta = list()\n",
    "for peak in used_peaks_d:\n",
    "    val_tmp = 2. * np.rad2deg(np.arcsin(lambda_val / (2. * peak)))\n",
    "    used_peaks_2theta.append(val_tmp)"
   ]
  },
  {
   "cell_type": "code",
   "execution_count": 35,
   "id": "147c3cbb-1933-4955-85b5-10108ed7b173",
   "metadata": {
    "execution": {
     "iopub.execute_input": "2024-04-06T23:42:58.906159Z",
     "iopub.status.busy": "2024-04-06T23:42:58.905954Z",
     "iopub.status.idle": "2024-04-06T23:42:58.910943Z",
     "shell.execute_reply": "2024-04-06T23:42:58.910123Z",
     "shell.execute_reply.started": "2024-04-06T23:42:58.906140Z"
    },
    "tags": []
   },
   "outputs": [
    {
     "data": {
      "text/plain": [
       "[24.613175764104273,\n",
       " 35.08694489435111,\n",
       " 56.92736582327283,\n",
       " 62.945222217048965,\n",
       " 79.49838666374927,\n",
       " 84.75564148306853,\n",
       " 100.43822871252318,\n",
       " 105.78539737883935,\n",
       " 122.99828511273124,\n",
       " 129.45511757798127]"
      ]
     },
     "execution_count": 35,
     "metadata": {},
     "output_type": "execute_result"
    }
   ],
   "source": [
    "used_peaks_2theta"
   ]
  },
  {
   "cell_type": "markdown",
   "id": "8a6c4817-4fcd-49c9-9b4f-229242a0b987",
   "metadata": {},
   "source": [
    "# Testing for k = [.14, .0, .0] in primitive settings"
   ]
  },
  {
   "cell_type": "markdown",
   "id": "07d502c3-322d-4dee-8f8c-1d0fcf362274",
   "metadata": {},
   "source": [
    "- This is for space group Fm-3m\n",
    "\n",
    "- The k-vector in conventional settings is [.14, .0, .0]"
   ]
  },
  {
   "cell_type": "code",
   "execution_count": 41,
   "id": "751f28fe-4978-4a67-904e-760d958e5be9",
   "metadata": {
    "execution": {
     "iopub.execute_input": "2024-04-07T02:17:36.351550Z",
     "iopub.status.busy": "2024-04-07T02:17:36.350276Z",
     "iopub.status.idle": "2024-04-07T02:17:36.359448Z",
     "shell.execute_reply": "2024-04-07T02:17:36.358721Z",
     "shell.execute_reply.started": "2024-04-07T02:17:36.351521Z"
    },
    "tags": []
   },
   "outputs": [],
   "source": [
    "rec_latt = np.array(\n",
    "    [\n",
    "        [\n",
    "            1.1223982327937814,\n",
    "            0.6480169218414499,\n",
    "            0.0\n",
    "        ],\n",
    "        [\n",
    "            0.0,\n",
    "            1.2960338436828998,\n",
    "            0.0\n",
    "        ],\n",
    "        [\n",
    "            0.0,\n",
    "            0.0,\n",
    "            0.7015928924002397\n",
    "        ]\n",
    "    ]\n",
    ")\n",
    "\n",
    "k_vec = np.array([.14, .0, .0])\n",
    "\n",
    "# Generate a series of primitive hkl index.\n",
    "hkl_refls = list()\n",
    "for i in range(3):\n",
    "    for j in range(3):\n",
    "        for k in range(3):\n",
    "            hkl_refls.append([i, j, k])\n",
    "\n",
    "satellite_peaks = list()\n",
    "\n",
    "for hkl in hkl_refls:\n",
    "    hkl_tmp = np.array(hkl)\n",
    "\n",
    "    hkl_p_k = hkl_tmp + k_vec\n",
    "    k_cart = np.matmul(\n",
    "        hkl_p_k,\n",
    "        rec_latt\n",
    "    )\n",
    "    d_hkl_p_k = 2. * np.pi / np.linalg.norm(k_cart)\n",
    "\n",
    "    satellite_peaks.append(d_hkl_p_k)\n",
    "    \n",
    "    hkl_m_k = hkl_tmp - k_vec\n",
    "    k_cart = np.matmul(\n",
    "        hkl_m_k,\n",
    "        rec_latt\n",
    "    )\n",
    "    d_hkl_m_k = 2. * np.pi / np.linalg.norm(k_cart)\n",
    "    \n",
    "    satellite_peaks.append(d_hkl_m_k)"
   ]
  },
  {
   "cell_type": "code",
   "execution_count": 46,
   "id": "bcfb6097-f608-4b45-9fb2-74b12ff0dad3",
   "metadata": {
    "execution": {
     "iopub.execute_input": "2024-04-07T02:17:52.455381Z",
     "iopub.status.busy": "2024-04-07T02:17:52.455132Z",
     "iopub.status.idle": "2024-04-07T02:17:52.460329Z",
     "shell.execute_reply": "2024-04-07T02:17:52.459592Z",
     "shell.execute_reply.started": "2024-04-07T02:17:52.455362Z"
    },
    "tags": []
   },
   "outputs": [],
   "source": [
    "lambda_val = 2.4109\n",
    "\n",
    "satellite_peaks = list(set(satellite_peaks))\n",
    "used_peaks_d = sorted(satellite_peaks, reverse=True)[:40]\n",
    "used_peaks_2theta = list()\n",
    "for peak in used_peaks_d:\n",
    "    val_tmp = 2. * np.rad2deg(np.arcsin(lambda_val / (2. * peak)))\n",
    "    used_peaks_2theta.append(val_tmp)"
   ]
  },
  {
   "cell_type": "code",
   "execution_count": 47,
   "id": "ba6e0be6-f7e7-4cea-a10e-c8931fd0d40b",
   "metadata": {
    "execution": {
     "iopub.execute_input": "2024-04-07T02:17:53.230440Z",
     "iopub.status.busy": "2024-04-07T02:17:53.230105Z",
     "iopub.status.idle": "2024-04-07T02:17:53.235823Z",
     "shell.execute_reply": "2024-04-07T02:17:53.235035Z",
     "shell.execute_reply.started": "2024-04-07T02:17:53.230418Z"
    },
    "tags": []
   },
   "outputs": [
    {
     "data": {
      "text/plain": [
       "[3.989827234732058,\n",
       " 15.983606491896646,\n",
       " 24.694684773857567,\n",
       " 26.97106884034035,\n",
       " 29.27168183349248,\n",
       " 31.061600212829333,\n",
       " 31.24029252242816,\n",
       " 31.500804306953835,\n",
       " 32.933536742349936,\n",
       " 34.877431565785194,\n",
       " 36.57612135272929,\n",
       " 40.21710077021546,\n",
       " 41.72980252902608,\n",
       " 44.629088004103224,\n",
       " 46.02390422155341,\n",
       " 47.26924070474926,\n",
       " 50.035099100758096,\n",
       " 54.92232759586314,\n",
       " 55.09528648393371,\n",
       " 57.42178111044969,\n",
       " 57.48021800965078,\n",
       " 57.589776373646764,\n",
       " 57.75027060347804,\n",
       " 59.91032204343658,\n",
       " 62.073039736321064,\n",
       " 64.29593338278713,\n",
       " 64.39847724503437,\n",
       " 64.54876172222745,\n",
       " 64.70558386798406,\n",
       " 66.5788187927341,\n",
       " 66.88068496321236,\n",
       " 71.13120981933413,\n",
       " 73.21510253392285,\n",
       " 77.37503441858746,\n",
       " 78.38951543586737,\n",
       " 79.49434554501512,\n",
       " 80.50152974481522,\n",
       " 85.77778539980434,\n",
       " 86.40135791473462,\n",
       " 86.77176174341429]"
      ]
     },
     "execution_count": 47,
     "metadata": {},
     "output_type": "execute_result"
    }
   ],
   "source": [
    "used_peaks_2theta"
   ]
  },
  {
   "cell_type": "code",
   "execution_count": null,
   "id": "5e9296f0-d6a3-474d-bb0b-f298d946aff8",
   "metadata": {},
   "outputs": [],
   "source": []
  }
 ],
 "metadata": {
  "kernelspec": {
   "display_name": "Python (default)",
   "language": "python",
   "name": "python3"
  },
  "language_info": {
   "codemirror_mode": {
    "name": "ipython",
    "version": 3
   },
   "file_extension": ".py",
   "mimetype": "text/x-python",
   "name": "python",
   "nbconvert_exporter": "python",
   "pygments_lexer": "ipython3",
   "version": "3.7.12"
  },
  "widgets": {
   "application/vnd.jupyter.widget-state+json": {
    "state": {},
    "version_major": 2,
    "version_minor": 0
   }
  }
 },
 "nbformat": 4,
 "nbformat_minor": 5
}
